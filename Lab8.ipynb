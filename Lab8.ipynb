{
 "cells": [
  {
   "cell_type": "markdown",
   "metadata": {},
   "source": [
    "# Python Lists, and API's\n",
    "## Lab: 8\n",
    "\n",
    "Todays Lab will be going over python lists, tuples, and using some api's\n",
    "to get data from the internet. We will be using the requests library to\n",
    "get data from the internet. We will also be using the json library to\n",
    "parse the data we get from the internet."
   ]
  },
  {
   "cell_type": "code",
   "execution_count": null,
   "metadata": {},
   "outputs": [],
   "source": [
    "# Name: Dylan Nhan\n",
    "# Creating Lists and Tuples\n",
    "\n",
    "# Create a list named fruits with the following elements: \"apple\", \"banana\", \"cherry\".\n",
    "fruits = [\"apple\", \"banana\", \"cherry\"]\n",
    "# Create a tuple named coordinates with three numbers representing a point in 3D space.\n",
    "coordinates = (10, 25, 3)"
   ]
  },
  {
   "cell_type": "code",
   "execution_count": null,
   "metadata": {},
   "outputs": [],
   "source": [
    "# Accessing Elements\n",
    "\n",
    "# Print the second element of the fruits list.\n",
    "print(fruits[1])\n",
    "# Print the last element of the coordinates tuple.\n",
    "print(coordinates[-1])"
   ]
  },
  {
   "cell_type": "code",
   "execution_count": null,
   "metadata": {},
   "outputs": [],
   "source": [
    "# Modifying lists\n",
    "\n",
    "# Add \"orange\" to the end of the fruits list.\n",
    "# Remmeber append is a method of the list class that adds an element to the end of the list\n",
    "fruits.append(\"orange\")\n",
    "# Insert \"blueberry\" at the beginning of the fruits list.\n",
    "fruits.insert(0, \"blueberry\")\n",
    "#  Remove \"banana\" from the fruits list.\n",
    "fruits.remove(\"banana\")\n",
    "# Change the first element of the fruits list to \"strawberry\".\n",
    "fruits[0] = \"strawberry\"\n",
    "# insert \"blueberry\" at the beginning of the fruits list again.\n",
    "fruits.insert(0, \"blueberry\")"
   ]
  },
  {
   "cell_type": "code",
   "execution_count": null,
   "metadata": {},
   "outputs": [],
   "source": [
    "# List Slicing\n",
    "\n",
    "# Create a new list berries that contains only the \"blueberry\" and \"strawberry\" from the fruits list.\n",
    "berries = fruits[0:2]\n",
    "# Print the last two elements of the fruits list using negative indexing.\n",
    "print(fruits[-2:])"
   ]
  },
  {
   "cell_type": "code",
   "execution_count": null,
   "metadata": {},
   "outputs": [],
   "source": [
    "# List Comprehensions\n",
    "\n",
    "# Create a new list even_fruits that contains only the fruits with an even number of characters from the fruits list.\n",
    "even_fruits = [fruit for fruit in fruits if len(fruit) % 2 == 0]\n",
    "# Create a new list upper_fruits that contains all the fruits from the fruits list in uppercase letters.\n",
    "upper_fruits = [fruit.upper() for fruit in fruits]"
   ]
  },
  {
   "cell_type": "code",
   "execution_count": null,
   "metadata": {},
   "outputs": [],
   "source": [
    "# Tuples and immutability\n",
    "\n",
    "# Try to change the first element of the coordinates tuple to a different number and observe what happens.\n",
    "# Try to add a new element to the coordinates tuple and observe what happens.\n",
    "# Create a new tuple new_coordinates that is a modified version of coordinates with the first element changed.\n",
    "new_coordinates = (5, 25, 3)    \n",
    "new_coordinates = (5, coordinates[1], coordinates[2])\n",
    "\n"
   ]
  },
  {
   "cell_type": "code",
   "execution_count": null,
   "metadata": {},
   "outputs": [],
   "source": [
    "# Built-in Functions and Methods\n",
    "\n",
    "# Use the len() function to print the length of the fruits list.\n",
    "print(len(fruits))\n",
    "# Use the sorted() function to print a sorted version of the fruits list without changing the original list.\n",
    "print(sorted(fruits))   \n",
    "# Use the list.sort() method to sort the fruits list in place.\n",
    "fruits.sort()\n",
    "# Find the index of \"cherry\" in the fruits list using the list.index() method.\n",
    "fruits.index(\"cherry\")"
   ]
  },
  {
   "cell_type": "markdown",
   "metadata": {},
   "source": [
    "# Working with API's \n",
    "\n"
   ]
  },
  {
   "cell_type": "code",
   "execution_count": null,
   "metadata": {},
   "outputs": [],
   "source": [
    "# import the requests library to get data from the internet\n",
    "import requests\n",
    "# Note: you may need to install the requests library using pip\n",
    "\n",
    "# import the json library to parse the data we get from the internet\n",
    "import json\n"
   ]
  },
  {
   "cell_type": "code",
   "execution_count": null,
   "metadata": {},
   "outputs": [],
   "source": [
    "# Use the requests library to send a GET request to the JSONPlaceholder API to retrieve a list of posts. The API endpoint is https://jsonplaceholder.typicode.com/posts.\n",
    "requests = requests.get(\"https://jsonplaceholder.typicode.com/posts\")\n",
    "requests.text\n",
    "\n"
   ]
  },
  {
   "cell_type": "code",
   "execution_count": null,
   "metadata": {},
   "outputs": [],
   "source": [
    "# Parse the JSON response and store it in a variable posts.\n",
    "# Note: We did not learn about JSON yet (This will be taught in more depth in our lesson on Dictionaries for now just think of it as a way to represent data.)\n",
    "posts = json.loads(requests.text)\n",
    "\n",
    "#  Print the title of the first post in the posts list.\n",
    "posts[0][\"title\"]\n",
    "# Create a list post_titles that contains the titles of all the posts.\n",
    "post_titles = [post[\"title\"] for post in posts]\n",
    " \n",
    "print(post_titles)  \n"
   ]
  },
  {
   "cell_type": "code",
   "execution_count": null,
   "metadata": {},
   "outputs": [],
   "source": [
    "# Find the post with the longest title and print its title and body. Call the variable longest_post. No LAMBDA functions allowed.\n",
    "longest_post = posts[0] \n",
    "for post in posts:\n",
    "    print(\"current longest post: \", longest_post[\"id\"])\n",
    "    if len(post[\"title\"]) > len(longest_post[\"title\"]):\n",
    "        print(\"new longest post: \", post[\"id\"])\n",
    "        longest_post = post\n",
    "# Note: Copilot might try to fill in a lambda function for this task. Try to solve it without using a lambda function.\n",
    "print(longest_post[\"title\"])\n",
    "\n",
    "\n",
    "# Print the titles of the first 5 posts using slicing. \n",
    "print(post_titles[:5])\n",
    "for post in posts[:5]:\n",
    "    print(post)"
   ]
  },
  {
   "cell_type": "code",
   "execution_count": null,
   "metadata": {},
   "outputs": [],
   "source": [
    "# Create a tuple post_info that contains the userId, title, and body of the fifth post in the list.\n",
    "post_info = (posts[4][\"userId\"], posts[4][\"title\"], posts[4][\"body\"])\n",
    "print(post_info)\n"
   ]
  }
 ],
 "metadata": {
  "kernelspec": {
   "display_name": "venv",
   "language": "python",
   "name": "python3"
  },
  "language_info": {
   "codemirror_mode": {
    "name": "ipython",
    "version": 3
   },
   "file_extension": ".py",
   "mimetype": "text/x-python",
   "name": "python",
   "nbconvert_exporter": "python",
   "pygments_lexer": "ipython3",
   "version": "3.12.2"
  }
 },
 "nbformat": 4,
 "nbformat_minor": 2
}
